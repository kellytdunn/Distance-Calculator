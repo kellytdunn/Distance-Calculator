{
  "nbformat": 4,
  "nbformat_minor": 0,
  "metadata": {
    "colab": {
      "name": "GIS Distance calculator - OSM street network.ipynb",
      "provenance": [],
      "authorship_tag": "ABX9TyOQ621fvrXreC5rYXzBSP/8",
      "include_colab_link": true
    },
    "kernelspec": {
      "name": "python3",
      "display_name": "Python 3"
    },
    "language_info": {
      "name": "python"
    }
  },
  "cells": [
    {
      "cell_type": "markdown",
      "metadata": {
        "id": "view-in-github",
        "colab_type": "text"
      },
      "source": [
        "<a href=\"https://colab.research.google.com/github/kellytdunn/Distance-Calculator/blob/main/GIS_Distance_calculator_OSM_street_network.ipynb\" target=\"_parent\"><img src=\"https://colab.research.google.com/assets/colab-badge.svg\" alt=\"Open In Colab\"/></a>"
      ]
    },
    {
      "cell_type": "markdown",
      "source": [
        "# Prepare Data"
      ],
      "metadata": {
        "id": "HxFIfXoF36Jz"
      }
    },
    {
      "cell_type": "code",
      "metadata": {
        "id": "HIZNdpneJzyf",
        "colab": {
          "base_uri": "https://localhost:8080/"
        },
        "outputId": "314f5d4d-c629-42dd-c8de-a82105b5fdd9"
      },
      "source": [
        "% pip install geopandas\n",
        "\n",
        "#import matplotlib.pyplot as plt\n",
        "import geopy.distance\n",
        "from google.colab import files\n",
        "import io\n",
        "\n"
      ],
      "execution_count": null,
      "outputs": [
        {
          "output_type": "stream",
          "name": "stdout",
          "text": [
            "Collecting geopandas\n",
            "  Downloading geopandas-0.10.2-py2.py3-none-any.whl (1.0 MB)\n",
            "\u001b[?25l\r\u001b[K     |▎                               | 10 kB 25.2 MB/s eta 0:00:01\r\u001b[K     |▋                               | 20 kB 30.1 MB/s eta 0:00:01\r\u001b[K     |█                               | 30 kB 36.8 MB/s eta 0:00:01\r\u001b[K     |█▎                              | 40 kB 18.4 MB/s eta 0:00:01\r\u001b[K     |█▋                              | 51 kB 14.5 MB/s eta 0:00:01\r\u001b[K     |██                              | 61 kB 16.5 MB/s eta 0:00:01\r\u001b[K     |██▎                             | 71 kB 14.0 MB/s eta 0:00:01\r\u001b[K     |██▌                             | 81 kB 15.3 MB/s eta 0:00:01\r\u001b[K     |██▉                             | 92 kB 16.8 MB/s eta 0:00:01\r\u001b[K     |███▏                            | 102 kB 15.2 MB/s eta 0:00:01\r\u001b[K     |███▌                            | 112 kB 15.2 MB/s eta 0:00:01\r\u001b[K     |███▉                            | 122 kB 15.2 MB/s eta 0:00:01\r\u001b[K     |████▏                           | 133 kB 15.2 MB/s eta 0:00:01\r\u001b[K     |████▌                           | 143 kB 15.2 MB/s eta 0:00:01\r\u001b[K     |████▊                           | 153 kB 15.2 MB/s eta 0:00:01\r\u001b[K     |█████                           | 163 kB 15.2 MB/s eta 0:00:01\r\u001b[K     |█████▍                          | 174 kB 15.2 MB/s eta 0:00:01\r\u001b[K     |█████▊                          | 184 kB 15.2 MB/s eta 0:00:01\r\u001b[K     |██████                          | 194 kB 15.2 MB/s eta 0:00:01\r\u001b[K     |██████▍                         | 204 kB 15.2 MB/s eta 0:00:01\r\u001b[K     |██████▊                         | 215 kB 15.2 MB/s eta 0:00:01\r\u001b[K     |███████                         | 225 kB 15.2 MB/s eta 0:00:01\r\u001b[K     |███████▎                        | 235 kB 15.2 MB/s eta 0:00:01\r\u001b[K     |███████▋                        | 245 kB 15.2 MB/s eta 0:00:01\r\u001b[K     |████████                        | 256 kB 15.2 MB/s eta 0:00:01\r\u001b[K     |████████▎                       | 266 kB 15.2 MB/s eta 0:00:01\r\u001b[K     |████████▋                       | 276 kB 15.2 MB/s eta 0:00:01\r\u001b[K     |█████████                       | 286 kB 15.2 MB/s eta 0:00:01\r\u001b[K     |█████████▏                      | 296 kB 15.2 MB/s eta 0:00:01\r\u001b[K     |█████████▌                      | 307 kB 15.2 MB/s eta 0:00:01\r\u001b[K     |█████████▉                      | 317 kB 15.2 MB/s eta 0:00:01\r\u001b[K     |██████████▏                     | 327 kB 15.2 MB/s eta 0:00:01\r\u001b[K     |██████████▌                     | 337 kB 15.2 MB/s eta 0:00:01\r\u001b[K     |██████████▉                     | 348 kB 15.2 MB/s eta 0:00:01\r\u001b[K     |███████████▏                    | 358 kB 15.2 MB/s eta 0:00:01\r\u001b[K     |███████████▍                    | 368 kB 15.2 MB/s eta 0:00:01\r\u001b[K     |███████████▊                    | 378 kB 15.2 MB/s eta 0:00:01\r\u001b[K     |████████████                    | 389 kB 15.2 MB/s eta 0:00:01\r\u001b[K     |████████████▍                   | 399 kB 15.2 MB/s eta 0:00:01\r\u001b[K     |████████████▊                   | 409 kB 15.2 MB/s eta 0:00:01\r\u001b[K     |█████████████                   | 419 kB 15.2 MB/s eta 0:00:01\r\u001b[K     |█████████████▍                  | 430 kB 15.2 MB/s eta 0:00:01\r\u001b[K     |█████████████▋                  | 440 kB 15.2 MB/s eta 0:00:01\r\u001b[K     |██████████████                  | 450 kB 15.2 MB/s eta 0:00:01\r\u001b[K     |██████████████▎                 | 460 kB 15.2 MB/s eta 0:00:01\r\u001b[K     |██████████████▋                 | 471 kB 15.2 MB/s eta 0:00:01\r\u001b[K     |███████████████                 | 481 kB 15.2 MB/s eta 0:00:01\r\u001b[K     |███████████████▎                | 491 kB 15.2 MB/s eta 0:00:01\r\u001b[K     |███████████████▋                | 501 kB 15.2 MB/s eta 0:00:01\r\u001b[K     |███████████████▉                | 512 kB 15.2 MB/s eta 0:00:01\r\u001b[K     |████████████████▏               | 522 kB 15.2 MB/s eta 0:00:01\r\u001b[K     |████████████████▌               | 532 kB 15.2 MB/s eta 0:00:01\r\u001b[K     |████████████████▉               | 542 kB 15.2 MB/s eta 0:00:01\r\u001b[K     |█████████████████▏              | 552 kB 15.2 MB/s eta 0:00:01\r\u001b[K     |█████████████████▌              | 563 kB 15.2 MB/s eta 0:00:01\r\u001b[K     |█████████████████▉              | 573 kB 15.2 MB/s eta 0:00:01\r\u001b[K     |██████████████████              | 583 kB 15.2 MB/s eta 0:00:01\r\u001b[K     |██████████████████▍             | 593 kB 15.2 MB/s eta 0:00:01\r\u001b[K     |██████████████████▊             | 604 kB 15.2 MB/s eta 0:00:01\r\u001b[K     |███████████████████             | 614 kB 15.2 MB/s eta 0:00:01\r\u001b[K     |███████████████████▍            | 624 kB 15.2 MB/s eta 0:00:01\r\u001b[K     |███████████████████▊            | 634 kB 15.2 MB/s eta 0:00:01\r\u001b[K     |████████████████████            | 645 kB 15.2 MB/s eta 0:00:01\r\u001b[K     |████████████████████▎           | 655 kB 15.2 MB/s eta 0:00:01\r\u001b[K     |████████████████████▋           | 665 kB 15.2 MB/s eta 0:00:01\r\u001b[K     |█████████████████████           | 675 kB 15.2 MB/s eta 0:00:01\r\u001b[K     |█████████████████████▎          | 686 kB 15.2 MB/s eta 0:00:01\r\u001b[K     |█████████████████████▋          | 696 kB 15.2 MB/s eta 0:00:01\r\u001b[K     |██████████████████████          | 706 kB 15.2 MB/s eta 0:00:01\r\u001b[K     |██████████████████████▎         | 716 kB 15.2 MB/s eta 0:00:01\r\u001b[K     |██████████████████████▋         | 727 kB 15.2 MB/s eta 0:00:01\r\u001b[K     |██████████████████████▉         | 737 kB 15.2 MB/s eta 0:00:01\r\u001b[K     |███████████████████████▏        | 747 kB 15.2 MB/s eta 0:00:01\r\u001b[K     |███████████████████████▌        | 757 kB 15.2 MB/s eta 0:00:01\r\u001b[K     |███████████████████████▉        | 768 kB 15.2 MB/s eta 0:00:01\r\u001b[K     |████████████████████████▏       | 778 kB 15.2 MB/s eta 0:00:01\r\u001b[K     |████████████████████████▌       | 788 kB 15.2 MB/s eta 0:00:01\r\u001b[K     |████████████████████████▉       | 798 kB 15.2 MB/s eta 0:00:01\r\u001b[K     |█████████████████████████       | 808 kB 15.2 MB/s eta 0:00:01\r\u001b[K     |█████████████████████████▍      | 819 kB 15.2 MB/s eta 0:00:01\r\u001b[K     |█████████████████████████▊      | 829 kB 15.2 MB/s eta 0:00:01\r\u001b[K     |██████████████████████████      | 839 kB 15.2 MB/s eta 0:00:01\r\u001b[K     |██████████████████████████▍     | 849 kB 15.2 MB/s eta 0:00:01\r\u001b[K     |██████████████████████████▊     | 860 kB 15.2 MB/s eta 0:00:01\r\u001b[K     |███████████████████████████     | 870 kB 15.2 MB/s eta 0:00:01\r\u001b[K     |███████████████████████████▎    | 880 kB 15.2 MB/s eta 0:00:01\r\u001b[K     |███████████████████████████▋    | 890 kB 15.2 MB/s eta 0:00:01\r\u001b[K     |████████████████████████████    | 901 kB 15.2 MB/s eta 0:00:01\r\u001b[K     |████████████████████████████▎   | 911 kB 15.2 MB/s eta 0:00:01\r\u001b[K     |████████████████████████████▋   | 921 kB 15.2 MB/s eta 0:00:01\r\u001b[K     |█████████████████████████████   | 931 kB 15.2 MB/s eta 0:00:01\r\u001b[K     |█████████████████████████████▎  | 942 kB 15.2 MB/s eta 0:00:01\r\u001b[K     |█████████████████████████████▌  | 952 kB 15.2 MB/s eta 0:00:01\r\u001b[K     |█████████████████████████████▉  | 962 kB 15.2 MB/s eta 0:00:01\r\u001b[K     |██████████████████████████████▏ | 972 kB 15.2 MB/s eta 0:00:01\r\u001b[K     |██████████████████████████████▌ | 983 kB 15.2 MB/s eta 0:00:01\r\u001b[K     |██████████████████████████████▉ | 993 kB 15.2 MB/s eta 0:00:01\r\u001b[K     |███████████████████████████████▏| 1.0 MB 15.2 MB/s eta 0:00:01\r\u001b[K     |███████████████████████████████▌| 1.0 MB 15.2 MB/s eta 0:00:01\r\u001b[K     |███████████████████████████████▊| 1.0 MB 15.2 MB/s eta 0:00:01\r\u001b[K     |████████████████████████████████| 1.0 MB 15.2 MB/s \n",
            "\u001b[?25hRequirement already satisfied: shapely>=1.6 in /usr/local/lib/python3.7/dist-packages (from geopandas) (1.8.1.post1)\n",
            "Collecting pyproj>=2.2.0\n",
            "  Downloading pyproj-3.2.1-cp37-cp37m-manylinux2010_x86_64.whl (6.3 MB)\n",
            "\u001b[K     |████████████████████████████████| 6.3 MB 41.1 MB/s \n",
            "\u001b[?25hCollecting fiona>=1.8\n",
            "  Downloading Fiona-1.8.21-cp37-cp37m-manylinux2014_x86_64.whl (16.7 MB)\n",
            "\u001b[K     |████████████████████████████████| 16.7 MB 54.0 MB/s \n",
            "\u001b[?25hRequirement already satisfied: pandas>=0.25.0 in /usr/local/lib/python3.7/dist-packages (from geopandas) (1.3.5)\n",
            "Collecting munch\n",
            "  Downloading munch-2.5.0-py2.py3-none-any.whl (10 kB)\n",
            "Requirement already satisfied: attrs>=17 in /usr/local/lib/python3.7/dist-packages (from fiona>=1.8->geopandas) (21.4.0)\n",
            "Requirement already satisfied: certifi in /usr/local/lib/python3.7/dist-packages (from fiona>=1.8->geopandas) (2021.10.8)\n",
            "Requirement already satisfied: setuptools in /usr/local/lib/python3.7/dist-packages (from fiona>=1.8->geopandas) (57.4.0)\n",
            "Requirement already satisfied: six>=1.7 in /usr/local/lib/python3.7/dist-packages (from fiona>=1.8->geopandas) (1.15.0)\n",
            "Collecting cligj>=0.5\n",
            "  Downloading cligj-0.7.2-py3-none-any.whl (7.1 kB)\n",
            "Collecting click-plugins>=1.0\n",
            "  Downloading click_plugins-1.1.1-py2.py3-none-any.whl (7.5 kB)\n",
            "Requirement already satisfied: click>=4.0 in /usr/local/lib/python3.7/dist-packages (from fiona>=1.8->geopandas) (7.1.2)\n",
            "Requirement already satisfied: pytz>=2017.3 in /usr/local/lib/python3.7/dist-packages (from pandas>=0.25.0->geopandas) (2018.9)\n",
            "Requirement already satisfied: numpy>=1.17.3 in /usr/local/lib/python3.7/dist-packages (from pandas>=0.25.0->geopandas) (1.21.5)\n",
            "Requirement already satisfied: python-dateutil>=2.7.3 in /usr/local/lib/python3.7/dist-packages (from pandas>=0.25.0->geopandas) (2.8.2)\n",
            "Installing collected packages: munch, cligj, click-plugins, pyproj, fiona, geopandas\n",
            "Successfully installed click-plugins-1.1.1 cligj-0.7.2 fiona-1.8.21 geopandas-0.10.2 munch-2.5.0 pyproj-3.2.1\n"
          ]
        }
      ]
    },
    {
      "cell_type": "markdown",
      "source": [
        "# New Section"
      ],
      "metadata": {
        "id": "PMJ4dlZTLgJ5"
      }
    },
    {
      "cell_type": "code",
      "metadata": {
        "colab": {
          "resources": {
            "http://localhost:8080/nbextensions/google.colab/files.js": {
              "data": "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",
              "ok": true,
              "headers": [
                [
                  "content-type",
                  "application/javascript"
                ]
              ],
              "status": 200,
              "status_text": ""
            }
          },
          "base_uri": "https://localhost:8080/",
          "height": 73
        },
        "id": "S6O2COEfJR2N",
        "outputId": "3c64f361-2322-4af9-bc30-f53cb1274f53"
      },
      "source": [
        "uploaded=files.upload()\n",
        "excel_file = io.BytesIO(uploaded.get('OD data with transformed access.xlsx'))\n"
      ],
      "execution_count": null,
      "outputs": [
        {
          "output_type": "display_data",
          "data": {
            "text/plain": [
              "<IPython.core.display.HTML object>"
            ],
            "text/html": [
              "\n",
              "     <input type=\"file\" id=\"files-298886ae-51c5-4529-ac66-b8a58adb542c\" name=\"files[]\" multiple disabled\n",
              "        style=\"border:none\" />\n",
              "     <output id=\"result-298886ae-51c5-4529-ac66-b8a58adb542c\">\n",
              "      Upload widget is only available when the cell has been executed in the\n",
              "      current browser session. Please rerun this cell to enable.\n",
              "      </output>\n",
              "      <script src=\"/nbextensions/google.colab/files.js\"></script> "
            ]
          },
          "metadata": {}
        },
        {
          "output_type": "stream",
          "name": "stdout",
          "text": [
            "Saving OD data with transformed access.xlsx to OD data with transformed access.xlsx\n"
          ]
        }
      ]
    },
    {
      "cell_type": "code",
      "metadata": {
        "id": "ecGPS92OF9uC"
      },
      "source": [
        "from geopy.distance import vincenty\n",
        "import pandas as pd\n",
        "import numpy as np"
      ],
      "execution_count": null,
      "outputs": []
    },
    {
      "cell_type": "code",
      "source": [
        "df1 = pd.read_excel(excel_file, 0)"
      ],
      "metadata": {
        "id": "Ogk0mgPWvGX1"
      },
      "execution_count": null,
      "outputs": []
    },
    {
      "cell_type": "code",
      "metadata": {
        "id": "dscMjADHKTU8",
        "colab": {
          "base_uri": "https://localhost:8080/",
          "height": 421
        },
        "outputId": "e89a96ff-3778-4cdd-86ad-69ce13887a05"
      },
      "source": [
        "df = df1"
      ],
      "execution_count": null,
      "outputs": [
        {
          "output_type": "execute_result",
          "data": {
            "text/plain": [
              "              Batch.No passcode_1 passcode_2  passcode_3  RangeID  \\\n",
              "25  003003\\4815722.tif   BE222211         BE      222211   2513.0   \n",
              "26  003003\\4815723.tif   BE209704         BE      209704   2231.0   \n",
              "27  003003\\4815724.tif   BE214049         BE      214049   2333.0   \n",
              "28  003003\\4815725.tif   BE212666         BE      212666   2308.0   \n",
              "29  003003\\4815726.tif   BE218844         BE      218844   2440.0   \n",
              "\n",
              "    survey_mode Route Direction route_id  direction_id  ...  home_lng.1  \\\n",
              "25          2.0    70         I   100264           1.0  ...         NaN   \n",
              "26          2.0     8         I   100275           1.0  ...         NaN   \n",
              "27          2.0    70         O      NaN           NaN  ...         NaN   \n",
              "28          2.0    48         O   100228           0.0  ...         NaN   \n",
              "29          2.0    60         I   100249           1.0  ...         NaN   \n",
              "\n",
              "    white_alone  language_proficiency one_direction        boarding latlong  \\\n",
              "25          NaN                   NaN           NaN  (47.66452, -122.31204)   \n",
              "26          NaN                   NaN           NaN  (47.61847, -122.33822)   \n",
              "27          NaN                   NaN           NaN              (0.0, 0.0)   \n",
              "28          NaN                   NaN           NaN  (47.64492, -122.30439)   \n",
              "29          NaN                   NaN           NaN  (47.56337, -122.31341)   \n",
              "\n",
              "            dest latlong        origin latlong  OD Distance  Access Distance  \\\n",
              "25   (47.6405, -122.125)  (47.6661, -122.3057)     8.618472         0.315375   \n",
              "26   (47.6253, -122.321)   (47.6222, -122.342)     1.003940         0.312375   \n",
              "27            (0.0, 0.0)            (0.0, 0.0)     0.000000         0.000000   \n",
              "28  (47.6613, -122.3119)   (47.727, -122.1796)     7.660474         8.126898   \n",
              "29    (47.62, -122.3127)  (47.5635, -122.3089)     3.907370         0.211078   \n",
              "\n",
              "    Exclude from Access Distance  \n",
              "25                           NaN  \n",
              "26                           NaN  \n",
              "27                           NaN  \n",
              "28                           NaN  \n",
              "29                           NaN  \n",
              "\n",
              "[5 rows x 151 columns]"
            ],
            "text/html": [
              "\n",
              "  <div id=\"df-7e23d1e9-9752-4f6a-95e3-3bcff91ff5d1\">\n",
              "    <div class=\"colab-df-container\">\n",
              "      <div>\n",
              "<style scoped>\n",
              "    .dataframe tbody tr th:only-of-type {\n",
              "        vertical-align: middle;\n",
              "    }\n",
              "\n",
              "    .dataframe tbody tr th {\n",
              "        vertical-align: top;\n",
              "    }\n",
              "\n",
              "    .dataframe thead th {\n",
              "        text-align: right;\n",
              "    }\n",
              "</style>\n",
              "<table border=\"1\" class=\"dataframe\">\n",
              "  <thead>\n",
              "    <tr style=\"text-align: right;\">\n",
              "      <th></th>\n",
              "      <th>Batch.No</th>\n",
              "      <th>passcode_1</th>\n",
              "      <th>passcode_2</th>\n",
              "      <th>passcode_3</th>\n",
              "      <th>RangeID</th>\n",
              "      <th>survey_mode</th>\n",
              "      <th>Route</th>\n",
              "      <th>Direction</th>\n",
              "      <th>route_id</th>\n",
              "      <th>direction_id</th>\n",
              "      <th>...</th>\n",
              "      <th>home_lng.1</th>\n",
              "      <th>white_alone</th>\n",
              "      <th>language_proficiency</th>\n",
              "      <th>one_direction</th>\n",
              "      <th>boarding latlong</th>\n",
              "      <th>dest latlong</th>\n",
              "      <th>origin latlong</th>\n",
              "      <th>OD Distance</th>\n",
              "      <th>Access Distance</th>\n",
              "      <th>Exclude from Access Distance</th>\n",
              "    </tr>\n",
              "  </thead>\n",
              "  <tbody>\n",
              "    <tr>\n",
              "      <th>25</th>\n",
              "      <td>003003\\4815722.tif</td>\n",
              "      <td>BE222211</td>\n",
              "      <td>BE</td>\n",
              "      <td>222211</td>\n",
              "      <td>2513.0</td>\n",
              "      <td>2.0</td>\n",
              "      <td>70</td>\n",
              "      <td>I</td>\n",
              "      <td>100264</td>\n",
              "      <td>1.0</td>\n",
              "      <td>...</td>\n",
              "      <td>NaN</td>\n",
              "      <td>NaN</td>\n",
              "      <td>NaN</td>\n",
              "      <td>NaN</td>\n",
              "      <td>(47.66452, -122.31204)</td>\n",
              "      <td>(47.6405, -122.125)</td>\n",
              "      <td>(47.6661, -122.3057)</td>\n",
              "      <td>8.618472</td>\n",
              "      <td>0.315375</td>\n",
              "      <td>NaN</td>\n",
              "    </tr>\n",
              "    <tr>\n",
              "      <th>26</th>\n",
              "      <td>003003\\4815723.tif</td>\n",
              "      <td>BE209704</td>\n",
              "      <td>BE</td>\n",
              "      <td>209704</td>\n",
              "      <td>2231.0</td>\n",
              "      <td>2.0</td>\n",
              "      <td>8</td>\n",
              "      <td>I</td>\n",
              "      <td>100275</td>\n",
              "      <td>1.0</td>\n",
              "      <td>...</td>\n",
              "      <td>NaN</td>\n",
              "      <td>NaN</td>\n",
              "      <td>NaN</td>\n",
              "      <td>NaN</td>\n",
              "      <td>(47.61847, -122.33822)</td>\n",
              "      <td>(47.6253, -122.321)</td>\n",
              "      <td>(47.6222, -122.342)</td>\n",
              "      <td>1.003940</td>\n",
              "      <td>0.312375</td>\n",
              "      <td>NaN</td>\n",
              "    </tr>\n",
              "    <tr>\n",
              "      <th>27</th>\n",
              "      <td>003003\\4815724.tif</td>\n",
              "      <td>BE214049</td>\n",
              "      <td>BE</td>\n",
              "      <td>214049</td>\n",
              "      <td>2333.0</td>\n",
              "      <td>2.0</td>\n",
              "      <td>70</td>\n",
              "      <td>O</td>\n",
              "      <td>NaN</td>\n",
              "      <td>NaN</td>\n",
              "      <td>...</td>\n",
              "      <td>NaN</td>\n",
              "      <td>NaN</td>\n",
              "      <td>NaN</td>\n",
              "      <td>NaN</td>\n",
              "      <td>(0.0, 0.0)</td>\n",
              "      <td>(0.0, 0.0)</td>\n",
              "      <td>(0.0, 0.0)</td>\n",
              "      <td>0.000000</td>\n",
              "      <td>0.000000</td>\n",
              "      <td>NaN</td>\n",
              "    </tr>\n",
              "    <tr>\n",
              "      <th>28</th>\n",
              "      <td>003003\\4815725.tif</td>\n",
              "      <td>BE212666</td>\n",
              "      <td>BE</td>\n",
              "      <td>212666</td>\n",
              "      <td>2308.0</td>\n",
              "      <td>2.0</td>\n",
              "      <td>48</td>\n",
              "      <td>O</td>\n",
              "      <td>100228</td>\n",
              "      <td>0.0</td>\n",
              "      <td>...</td>\n",
              "      <td>NaN</td>\n",
              "      <td>NaN</td>\n",
              "      <td>NaN</td>\n",
              "      <td>NaN</td>\n",
              "      <td>(47.64492, -122.30439)</td>\n",
              "      <td>(47.6613, -122.3119)</td>\n",
              "      <td>(47.727, -122.1796)</td>\n",
              "      <td>7.660474</td>\n",
              "      <td>8.126898</td>\n",
              "      <td>NaN</td>\n",
              "    </tr>\n",
              "    <tr>\n",
              "      <th>29</th>\n",
              "      <td>003003\\4815726.tif</td>\n",
              "      <td>BE218844</td>\n",
              "      <td>BE</td>\n",
              "      <td>218844</td>\n",
              "      <td>2440.0</td>\n",
              "      <td>2.0</td>\n",
              "      <td>60</td>\n",
              "      <td>I</td>\n",
              "      <td>100249</td>\n",
              "      <td>1.0</td>\n",
              "      <td>...</td>\n",
              "      <td>NaN</td>\n",
              "      <td>NaN</td>\n",
              "      <td>NaN</td>\n",
              "      <td>NaN</td>\n",
              "      <td>(47.56337, -122.31341)</td>\n",
              "      <td>(47.62, -122.3127)</td>\n",
              "      <td>(47.5635, -122.3089)</td>\n",
              "      <td>3.907370</td>\n",
              "      <td>0.211078</td>\n",
              "      <td>NaN</td>\n",
              "    </tr>\n",
              "  </tbody>\n",
              "</table>\n",
              "<p>5 rows × 151 columns</p>\n",
              "</div>\n",
              "      <button class=\"colab-df-convert\" onclick=\"convertToInteractive('df-7e23d1e9-9752-4f6a-95e3-3bcff91ff5d1')\"\n",
              "              title=\"Convert this dataframe to an interactive table.\"\n",
              "              style=\"display:none;\">\n",
              "        \n",
              "  <svg xmlns=\"http://www.w3.org/2000/svg\" height=\"24px\"viewBox=\"0 0 24 24\"\n",
              "       width=\"24px\">\n",
              "    <path d=\"M0 0h24v24H0V0z\" fill=\"none\"/>\n",
              "    <path d=\"M18.56 5.44l.94 2.06.94-2.06 2.06-.94-2.06-.94-.94-2.06-.94 2.06-2.06.94zm-11 1L8.5 8.5l.94-2.06 2.06-.94-2.06-.94L8.5 2.5l-.94 2.06-2.06.94zm10 10l.94 2.06.94-2.06 2.06-.94-2.06-.94-.94-2.06-.94 2.06-2.06.94z\"/><path d=\"M17.41 7.96l-1.37-1.37c-.4-.4-.92-.59-1.43-.59-.52 0-1.04.2-1.43.59L10.3 9.45l-7.72 7.72c-.78.78-.78 2.05 0 2.83L4 21.41c.39.39.9.59 1.41.59.51 0 1.02-.2 1.41-.59l7.78-7.78 2.81-2.81c.8-.78.8-2.07 0-2.86zM5.41 20L4 18.59l7.72-7.72 1.47 1.35L5.41 20z\"/>\n",
              "  </svg>\n",
              "      </button>\n",
              "      \n",
              "  <style>\n",
              "    .colab-df-container {\n",
              "      display:flex;\n",
              "      flex-wrap:wrap;\n",
              "      gap: 12px;\n",
              "    }\n",
              "\n",
              "    .colab-df-convert {\n",
              "      background-color: #E8F0FE;\n",
              "      border: none;\n",
              "      border-radius: 50%;\n",
              "      cursor: pointer;\n",
              "      display: none;\n",
              "      fill: #1967D2;\n",
              "      height: 32px;\n",
              "      padding: 0 0 0 0;\n",
              "      width: 32px;\n",
              "    }\n",
              "\n",
              "    .colab-df-convert:hover {\n",
              "      background-color: #E2EBFA;\n",
              "      box-shadow: 0px 1px 2px rgba(60, 64, 67, 0.3), 0px 1px 3px 1px rgba(60, 64, 67, 0.15);\n",
              "      fill: #174EA6;\n",
              "    }\n",
              "\n",
              "    [theme=dark] .colab-df-convert {\n",
              "      background-color: #3B4455;\n",
              "      fill: #D2E3FC;\n",
              "    }\n",
              "\n",
              "    [theme=dark] .colab-df-convert:hover {\n",
              "      background-color: #434B5C;\n",
              "      box-shadow: 0px 1px 3px 1px rgba(0, 0, 0, 0.15);\n",
              "      filter: drop-shadow(0px 1px 2px rgba(0, 0, 0, 0.3));\n",
              "      fill: #FFFFFF;\n",
              "    }\n",
              "  </style>\n",
              "\n",
              "      <script>\n",
              "        const buttonEl =\n",
              "          document.querySelector('#df-7e23d1e9-9752-4f6a-95e3-3bcff91ff5d1 button.colab-df-convert');\n",
              "        buttonEl.style.display =\n",
              "          google.colab.kernel.accessAllowed ? 'block' : 'none';\n",
              "\n",
              "        async function convertToInteractive(key) {\n",
              "          const element = document.querySelector('#df-7e23d1e9-9752-4f6a-95e3-3bcff91ff5d1');\n",
              "          const dataTable =\n",
              "            await google.colab.kernel.invokeFunction('convertToInteractive',\n",
              "                                                     [key], {});\n",
              "          if (!dataTable) return;\n",
              "\n",
              "          const docLinkHtml = 'Like what you see? Visit the ' +\n",
              "            '<a target=\"_blank\" href=https://colab.research.google.com/notebooks/data_table.ipynb>data table notebook</a>'\n",
              "            + ' to learn more about interactive tables.';\n",
              "          element.innerHTML = '';\n",
              "          dataTable['output_type'] = 'display_data';\n",
              "          await google.colab.output.renderOutput(dataTable, element);\n",
              "          const docLink = document.createElement('div');\n",
              "          docLink.innerHTML = docLinkHtml;\n",
              "          element.appendChild(docLink);\n",
              "        }\n",
              "      </script>\n",
              "    </div>\n",
              "  </div>\n",
              "  "
            ]
          },
          "metadata": {},
          "execution_count": 6
        }
      ]
    },
    {
      "cell_type": "code",
      "source": [
        "# convert NAs to zero now, before they become the tuples I need. \n",
        "\n",
        "cols_fillna = ['origin_lat','origin_lng','destination_lat','destination_lng','board_stop_lat','board_stop_lon']\n",
        "# replace 'NaN' with zero in these columns\n",
        "for col in cols_fillna:\n",
        "     df[col].fillna(1,inplace=True)\n",
        "\n",
        "#should not see any nans in the output for the columns above\n",
        "#But I think maybe the inputs were already zeroes, so they're not getting switched to 1s here"
      ],
      "metadata": {
        "id": "VxCrqmM_A15Z",
        "colab": {
          "base_uri": "https://localhost:8080/",
          "height": 421
        },
        "outputId": "e0964d5f-b0a0-43f7-f4d3-68c47da41aeb"
      },
      "execution_count": null,
      "outputs": [
        {
          "output_type": "execute_result",
          "data": {
            "text/plain": [
              "              Batch.No passcode_1 passcode_2  passcode_3  RangeID  \\\n",
              "25  003003\\4815722.tif   BE222211         BE      222211   2513.0   \n",
              "26  003003\\4815723.tif   BE209704         BE      209704   2231.0   \n",
              "27  003003\\4815724.tif   BE214049         BE      214049   2333.0   \n",
              "28  003003\\4815725.tif   BE212666         BE      212666   2308.0   \n",
              "29  003003\\4815726.tif   BE218844         BE      218844   2440.0   \n",
              "\n",
              "    survey_mode Route Direction route_id  direction_id  ...  home_lng.1  \\\n",
              "25          2.0    70         I   100264           1.0  ...         NaN   \n",
              "26          2.0     8         I   100275           1.0  ...         NaN   \n",
              "27          2.0    70         O      NaN           NaN  ...         NaN   \n",
              "28          2.0    48         O   100228           0.0  ...         NaN   \n",
              "29          2.0    60         I   100249           1.0  ...         NaN   \n",
              "\n",
              "    white_alone  language_proficiency one_direction        boarding latlong  \\\n",
              "25          NaN                   NaN           NaN  (47.66452, -122.31204)   \n",
              "26          NaN                   NaN           NaN  (47.61847, -122.33822)   \n",
              "27          NaN                   NaN           NaN              (0.0, 0.0)   \n",
              "28          NaN                   NaN           NaN  (47.64492, -122.30439)   \n",
              "29          NaN                   NaN           NaN  (47.56337, -122.31341)   \n",
              "\n",
              "            dest latlong        origin latlong  OD Distance  Access Distance  \\\n",
              "25   (47.6405, -122.125)  (47.6661, -122.3057)     8.618472         0.315375   \n",
              "26   (47.6253, -122.321)   (47.6222, -122.342)     1.003940         0.312375   \n",
              "27            (0.0, 0.0)            (0.0, 0.0)     0.000000         0.000000   \n",
              "28  (47.6613, -122.3119)   (47.727, -122.1796)     7.660474         8.126898   \n",
              "29    (47.62, -122.3127)  (47.5635, -122.3089)     3.907370         0.211078   \n",
              "\n",
              "    Exclude from Access Distance  \n",
              "25                           NaN  \n",
              "26                           NaN  \n",
              "27                           NaN  \n",
              "28                           NaN  \n",
              "29                           NaN  \n",
              "\n",
              "[5 rows x 151 columns]"
            ],
            "text/html": [
              "\n",
              "  <div id=\"df-2b4a18ea-43f9-4776-ae40-e88aac8dff6b\">\n",
              "    <div class=\"colab-df-container\">\n",
              "      <div>\n",
              "<style scoped>\n",
              "    .dataframe tbody tr th:only-of-type {\n",
              "        vertical-align: middle;\n",
              "    }\n",
              "\n",
              "    .dataframe tbody tr th {\n",
              "        vertical-align: top;\n",
              "    }\n",
              "\n",
              "    .dataframe thead th {\n",
              "        text-align: right;\n",
              "    }\n",
              "</style>\n",
              "<table border=\"1\" class=\"dataframe\">\n",
              "  <thead>\n",
              "    <tr style=\"text-align: right;\">\n",
              "      <th></th>\n",
              "      <th>Batch.No</th>\n",
              "      <th>passcode_1</th>\n",
              "      <th>passcode_2</th>\n",
              "      <th>passcode_3</th>\n",
              "      <th>RangeID</th>\n",
              "      <th>survey_mode</th>\n",
              "      <th>Route</th>\n",
              "      <th>Direction</th>\n",
              "      <th>route_id</th>\n",
              "      <th>direction_id</th>\n",
              "      <th>...</th>\n",
              "      <th>home_lng.1</th>\n",
              "      <th>white_alone</th>\n",
              "      <th>language_proficiency</th>\n",
              "      <th>one_direction</th>\n",
              "      <th>boarding latlong</th>\n",
              "      <th>dest latlong</th>\n",
              "      <th>origin latlong</th>\n",
              "      <th>OD Distance</th>\n",
              "      <th>Access Distance</th>\n",
              "      <th>Exclude from Access Distance</th>\n",
              "    </tr>\n",
              "  </thead>\n",
              "  <tbody>\n",
              "    <tr>\n",
              "      <th>25</th>\n",
              "      <td>003003\\4815722.tif</td>\n",
              "      <td>BE222211</td>\n",
              "      <td>BE</td>\n",
              "      <td>222211</td>\n",
              "      <td>2513.0</td>\n",
              "      <td>2.0</td>\n",
              "      <td>70</td>\n",
              "      <td>I</td>\n",
              "      <td>100264</td>\n",
              "      <td>1.0</td>\n",
              "      <td>...</td>\n",
              "      <td>NaN</td>\n",
              "      <td>NaN</td>\n",
              "      <td>NaN</td>\n",
              "      <td>NaN</td>\n",
              "      <td>(47.66452, -122.31204)</td>\n",
              "      <td>(47.6405, -122.125)</td>\n",
              "      <td>(47.6661, -122.3057)</td>\n",
              "      <td>8.618472</td>\n",
              "      <td>0.315375</td>\n",
              "      <td>NaN</td>\n",
              "    </tr>\n",
              "    <tr>\n",
              "      <th>26</th>\n",
              "      <td>003003\\4815723.tif</td>\n",
              "      <td>BE209704</td>\n",
              "      <td>BE</td>\n",
              "      <td>209704</td>\n",
              "      <td>2231.0</td>\n",
              "      <td>2.0</td>\n",
              "      <td>8</td>\n",
              "      <td>I</td>\n",
              "      <td>100275</td>\n",
              "      <td>1.0</td>\n",
              "      <td>...</td>\n",
              "      <td>NaN</td>\n",
              "      <td>NaN</td>\n",
              "      <td>NaN</td>\n",
              "      <td>NaN</td>\n",
              "      <td>(47.61847, -122.33822)</td>\n",
              "      <td>(47.6253, -122.321)</td>\n",
              "      <td>(47.6222, -122.342)</td>\n",
              "      <td>1.003940</td>\n",
              "      <td>0.312375</td>\n",
              "      <td>NaN</td>\n",
              "    </tr>\n",
              "    <tr>\n",
              "      <th>27</th>\n",
              "      <td>003003\\4815724.tif</td>\n",
              "      <td>BE214049</td>\n",
              "      <td>BE</td>\n",
              "      <td>214049</td>\n",
              "      <td>2333.0</td>\n",
              "      <td>2.0</td>\n",
              "      <td>70</td>\n",
              "      <td>O</td>\n",
              "      <td>NaN</td>\n",
              "      <td>NaN</td>\n",
              "      <td>...</td>\n",
              "      <td>NaN</td>\n",
              "      <td>NaN</td>\n",
              "      <td>NaN</td>\n",
              "      <td>NaN</td>\n",
              "      <td>(0.0, 0.0)</td>\n",
              "      <td>(0.0, 0.0)</td>\n",
              "      <td>(0.0, 0.0)</td>\n",
              "      <td>0.000000</td>\n",
              "      <td>0.000000</td>\n",
              "      <td>NaN</td>\n",
              "    </tr>\n",
              "    <tr>\n",
              "      <th>28</th>\n",
              "      <td>003003\\4815725.tif</td>\n",
              "      <td>BE212666</td>\n",
              "      <td>BE</td>\n",
              "      <td>212666</td>\n",
              "      <td>2308.0</td>\n",
              "      <td>2.0</td>\n",
              "      <td>48</td>\n",
              "      <td>O</td>\n",
              "      <td>100228</td>\n",
              "      <td>0.0</td>\n",
              "      <td>...</td>\n",
              "      <td>NaN</td>\n",
              "      <td>NaN</td>\n",
              "      <td>NaN</td>\n",
              "      <td>NaN</td>\n",
              "      <td>(47.64492, -122.30439)</td>\n",
              "      <td>(47.6613, -122.3119)</td>\n",
              "      <td>(47.727, -122.1796)</td>\n",
              "      <td>7.660474</td>\n",
              "      <td>8.126898</td>\n",
              "      <td>NaN</td>\n",
              "    </tr>\n",
              "    <tr>\n",
              "      <th>29</th>\n",
              "      <td>003003\\4815726.tif</td>\n",
              "      <td>BE218844</td>\n",
              "      <td>BE</td>\n",
              "      <td>218844</td>\n",
              "      <td>2440.0</td>\n",
              "      <td>2.0</td>\n",
              "      <td>60</td>\n",
              "      <td>I</td>\n",
              "      <td>100249</td>\n",
              "      <td>1.0</td>\n",
              "      <td>...</td>\n",
              "      <td>NaN</td>\n",
              "      <td>NaN</td>\n",
              "      <td>NaN</td>\n",
              "      <td>NaN</td>\n",
              "      <td>(47.56337, -122.31341)</td>\n",
              "      <td>(47.62, -122.3127)</td>\n",
              "      <td>(47.5635, -122.3089)</td>\n",
              "      <td>3.907370</td>\n",
              "      <td>0.211078</td>\n",
              "      <td>NaN</td>\n",
              "    </tr>\n",
              "  </tbody>\n",
              "</table>\n",
              "<p>5 rows × 151 columns</p>\n",
              "</div>\n",
              "      <button class=\"colab-df-convert\" onclick=\"convertToInteractive('df-2b4a18ea-43f9-4776-ae40-e88aac8dff6b')\"\n",
              "              title=\"Convert this dataframe to an interactive table.\"\n",
              "              style=\"display:none;\">\n",
              "        \n",
              "  <svg xmlns=\"http://www.w3.org/2000/svg\" height=\"24px\"viewBox=\"0 0 24 24\"\n",
              "       width=\"24px\">\n",
              "    <path d=\"M0 0h24v24H0V0z\" fill=\"none\"/>\n",
              "    <path d=\"M18.56 5.44l.94 2.06.94-2.06 2.06-.94-2.06-.94-.94-2.06-.94 2.06-2.06.94zm-11 1L8.5 8.5l.94-2.06 2.06-.94-2.06-.94L8.5 2.5l-.94 2.06-2.06.94zm10 10l.94 2.06.94-2.06 2.06-.94-2.06-.94-.94-2.06-.94 2.06-2.06.94z\"/><path d=\"M17.41 7.96l-1.37-1.37c-.4-.4-.92-.59-1.43-.59-.52 0-1.04.2-1.43.59L10.3 9.45l-7.72 7.72c-.78.78-.78 2.05 0 2.83L4 21.41c.39.39.9.59 1.41.59.51 0 1.02-.2 1.41-.59l7.78-7.78 2.81-2.81c.8-.78.8-2.07 0-2.86zM5.41 20L4 18.59l7.72-7.72 1.47 1.35L5.41 20z\"/>\n",
              "  </svg>\n",
              "      </button>\n",
              "      \n",
              "  <style>\n",
              "    .colab-df-container {\n",
              "      display:flex;\n",
              "      flex-wrap:wrap;\n",
              "      gap: 12px;\n",
              "    }\n",
              "\n",
              "    .colab-df-convert {\n",
              "      background-color: #E8F0FE;\n",
              "      border: none;\n",
              "      border-radius: 50%;\n",
              "      cursor: pointer;\n",
              "      display: none;\n",
              "      fill: #1967D2;\n",
              "      height: 32px;\n",
              "      padding: 0 0 0 0;\n",
              "      width: 32px;\n",
              "    }\n",
              "\n",
              "    .colab-df-convert:hover {\n",
              "      background-color: #E2EBFA;\n",
              "      box-shadow: 0px 1px 2px rgba(60, 64, 67, 0.3), 0px 1px 3px 1px rgba(60, 64, 67, 0.15);\n",
              "      fill: #174EA6;\n",
              "    }\n",
              "\n",
              "    [theme=dark] .colab-df-convert {\n",
              "      background-color: #3B4455;\n",
              "      fill: #D2E3FC;\n",
              "    }\n",
              "\n",
              "    [theme=dark] .colab-df-convert:hover {\n",
              "      background-color: #434B5C;\n",
              "      box-shadow: 0px 1px 3px 1px rgba(0, 0, 0, 0.15);\n",
              "      filter: drop-shadow(0px 1px 2px rgba(0, 0, 0, 0.3));\n",
              "      fill: #FFFFFF;\n",
              "    }\n",
              "  </style>\n",
              "\n",
              "      <script>\n",
              "        const buttonEl =\n",
              "          document.querySelector('#df-2b4a18ea-43f9-4776-ae40-e88aac8dff6b button.colab-df-convert');\n",
              "        buttonEl.style.display =\n",
              "          google.colab.kernel.accessAllowed ? 'block' : 'none';\n",
              "\n",
              "        async function convertToInteractive(key) {\n",
              "          const element = document.querySelector('#df-2b4a18ea-43f9-4776-ae40-e88aac8dff6b');\n",
              "          const dataTable =\n",
              "            await google.colab.kernel.invokeFunction('convertToInteractive',\n",
              "                                                     [key], {});\n",
              "          if (!dataTable) return;\n",
              "\n",
              "          const docLinkHtml = 'Like what you see? Visit the ' +\n",
              "            '<a target=\"_blank\" href=https://colab.research.google.com/notebooks/data_table.ipynb>data table notebook</a>'\n",
              "            + ' to learn more about interactive tables.';\n",
              "          element.innerHTML = '';\n",
              "          dataTable['output_type'] = 'display_data';\n",
              "          await google.colab.output.renderOutput(dataTable, element);\n",
              "          const docLink = document.createElement('div');\n",
              "          docLink.innerHTML = docLinkHtml;\n",
              "          element.appendChild(docLink);\n",
              "        }\n",
              "      </script>\n",
              "    </div>\n",
              "  </div>\n",
              "  "
            ]
          },
          "metadata": {},
          "execution_count": 7
        }
      ]
    },
    {
      "cell_type": "code",
      "source": [
        "df['board_stop_lon'].isnull().sum()"
      ],
      "metadata": {
        "id": "dscUUMDDK-lM",
        "colab": {
          "base_uri": "https://localhost:8080/"
        },
        "outputId": "44b08f02-c68e-4c86-e745-e5a8f5575021"
      },
      "execution_count": null,
      "outputs": [
        {
          "output_type": "execute_result",
          "data": {
            "text/plain": [
              "0"
            ]
          },
          "metadata": {},
          "execution_count": 8
        }
      ]
    },
    {
      "cell_type": "markdown",
      "source": [
        "# Calculate Origin-Destination Distances"
      ],
      "metadata": {
        "id": "K31btIT6rFKt"
      }
    },
    {
      "cell_type": "code",
      "source": [
        "import requests\n",
        "import json"
      ],
      "metadata": {
        "id": "miWeQMtVxCez"
      },
      "execution_count": null,
      "outputs": []
    },
    {
      "cell_type": "code",
      "source": [
        "testdf = df[:50]"
      ],
      "metadata": {
        "id": "uXOOYoGeA2C-"
      },
      "execution_count": null,
      "outputs": []
    },
    {
      "cell_type": "code",
      "source": [
        "def Accessdistancer(row):\n",
        "  lon_1 = (row['origin_lng'])\n",
        "  lat_1 = (row['origin_lat'])\n",
        "  lon_2 = (row['board_stop_lon'])\n",
        "  lat_2 = (row['board_stop_lat'])\n",
        "  # call the OSMR API\n",
        "  r = requests.get(f\"http://router.project-osrm.org/route/v1/foot/{lon_1},{lat_1};{lon_2},{lat_2}?overview=false\"\"\")\n",
        "  # then you load the response using the json libray\n",
        "  routes = json.loads(r.content) #returns dictionary which includes `routes` as one key and a list of dictionaries as its value. Diff results if fed (0,0) point.\n",
        "  if \"routes\" in routes: \n",
        "    route_1 = routes.get(\"routes\")[0] #takes the value from `route`, which is a list of dictionaries, then returns the first (and only) dictionary from that list. \n",
        "  else:\n",
        "    route_1 = {'distance':0}\n",
        "  return (route_1['distance']*0.000621371) #takes just the value of distance from the dictionary and converts meters to miles\n",
        "#http://project-osrm.org/docs/v5.5.1/api/#route-service"
      ],
      "metadata": {
        "id": "PeTfOOGwBIAU"
      },
      "execution_count": null,
      "outputs": []
    },
    {
      "cell_type": "code",
      "source": [
        "#will overwrite excel file last exported, so download it first.\n",
        "current_chunk = df[14001:16501] #end +1 higher than you want\n",
        "access = current_chunk.apply(Accessdistancer, axis = 1) #generate pandas series of access distances\n",
        "access = pd.Series(access, name = \"Street Network Distance\") #give it a name\n",
        "newdf = df.merge(access, left_index=True, right_index=True) #join series to existing df, based on index. just keep those in the chunk I want.\n",
        "newdf.to_excel('OD dataset with street network distances.xlsx') #export df to excel"
      ],
      "metadata": {
        "id": "UwSAA7MRlXYE"
      },
      "execution_count": null,
      "outputs": []
    },
    {
      "cell_type": "code",
      "source": [
        "#will need to re-import aggregated file before finishing the part below. "
      ],
      "metadata": {
        "id": "USRL8Xm202Hg"
      },
      "execution_count": null,
      "outputs": []
    },
    {
      "cell_type": "code",
      "source": [
        "#now watch for obs where boarding location is 0 but origin is not, so a very large distance is calculated.\n",
        "too_high = df['Access Distance']>7000\n",
        "sum(too_high)"
      ],
      "metadata": {
        "id": "Vrq7LAAIRkRL"
      },
      "execution_count": null,
      "outputs": []
    },
    {
      "cell_type": "code",
      "source": [
        "df.loc[df['Access Distance'] > 7000, 'Access Distance'] = 0"
      ],
      "metadata": {
        "id": "MjasDx1meN5R"
      },
      "execution_count": null,
      "outputs": []
    },
    {
      "cell_type": "code",
      "source": [
        "df[6704:6708]"
      ],
      "metadata": {
        "id": "OGoQKhtqfCKo"
      },
      "execution_count": null,
      "outputs": []
    },
    {
      "cell_type": "code",
      "metadata": {
        "id": "R303m1vYYAVQ"
      },
      "source": [
        "df.to_excel('OD dataset with street network distances.xlsx', index=False)"
      ],
      "execution_count": null,
      "outputs": []
    }
  ]
}